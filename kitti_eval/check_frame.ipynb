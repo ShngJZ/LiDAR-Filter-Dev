{
 "cells": [
  {
   "cell_type": "code",
   "execution_count": 2,
   "metadata": {},
   "outputs": [],
   "source": [
    "import os\n",
    "import os.path as osp\n",
    "import numpy as np\n",
    "from PIL import Image\n",
    "from tqdm import tqdm"
   ]
  },
  {
   "cell_type": "code",
   "execution_count": 3,
   "metadata": {},
   "outputs": [],
   "source": [
    "def load_depth(depth_path):\n",
    "    im = Image.open(depth_path)\n",
    "    im_arr = np.array(im).astype(float)/256\n",
    "    return im_arr"
   ]
  },
  {
   "cell_type": "code",
   "execution_count": 5,
   "metadata": {},
   "outputs": [
    {
     "name": "stderr",
     "output_type": "stream",
     "text": [
      "100%|██████████| 23158/23158 [12:46<00:00, 30.22it/s]  \n"
     ]
    }
   ],
   "source": [
    "DATA_DIR = \"/scratch1/ganesang/kitti/datasets\"\n",
    "\n",
    "split_file = \"kitti_eigen_train.txt\"\n",
    "\n",
    "with open(osp.join(DATA_DIR, split_file), \"r\") as f:\n",
    "    data = [line for line in f]\n",
    "\n",
    "clean_count = 0\n",
    "half_occ_count = 0\n",
    "min_depth = 0.01\n",
    "\n",
    "new_split_data = []\n",
    "for line in tqdm(data):\n",
    "    path = line.strip().split(\" \")[1]\n",
    "    semidense_path = osp.join(DATA_DIR, path)\n",
    "    raw_depth_path = semidense_path.replace(\"groundtruth\", \"groundtruth_raw\")\n",
    "    clean_depth_path = semidense_path.replace(\"groundtruth\", \"groundtruth_filter\")\n",
    "    half_occ_depth_path = semidense_path.replace(\"groundtruth\", \"groundtruth_half_occ\")\n",
    "\n",
    "    semidense_depth = load_depth(semidense_path)\n",
    "    raw_depth = load_depth(raw_depth_path)\n",
    "    clean_depth = load_depth(clean_depth_path)\n",
    "    half_occ_depth = load_depth(half_occ_depth_path)\n",
    "    \n",
    "    semidense_mask = semidense_depth > min_depth\n",
    "    raw_mask = raw_depth > min_depth\n",
    "    clean_mask = clean_depth > min_depth\n",
    "    half_occ_mask = half_occ_depth > min_depth\n",
    "\n",
    "    pts_rm_clean = raw_mask & ~clean_mask\n",
    "    pts_rm_half_occ = raw_mask & ~half_occ_mask\n",
    "    \n",
    "    avail_pts_rm_clean = np.sum(pts_rm_clean & semidense_mask)\n",
    "    avail_pts_rm_half_occ = np.sum(pts_rm_half_occ & semidense_mask)\n",
    "\n",
    "    # if avail_pts_rm_clean == 0:\n",
    "    #     clean_count += 1\n",
    "    # if avail_pts_rm_half_occ == 0:\n",
    "    #     half_occ_count += 1\n",
    "    if avail_pts_rm_clean  > 0 and avail_pts_rm_half_occ > 0:\n",
    "        new_split_data.append(line)\n",
    "\n",
    "with open(osp.join(\"splits\", \"kitti_eigen_half_occ_train.txt\"), \"w\") as f:\n",
    "    f.writelines(new_split_data)"
   ]
  }
 ],
 "metadata": {
  "kernelspec": {
   "display_name": "idisc",
   "language": "python",
   "name": "python3"
  },
  "language_info": {
   "codemirror_mode": {
    "name": "ipython",
    "version": 3
   },
   "file_extension": ".py",
   "mimetype": "text/x-python",
   "name": "python",
   "nbconvert_exporter": "python",
   "pygments_lexer": "ipython3",
   "version": "3.9.17"
  }
 },
 "nbformat": 4,
 "nbformat_minor": 2
}
